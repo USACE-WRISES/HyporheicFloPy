{
 "cells": [
  {
   "cell_type": "markdown",
   "metadata": {},
   "source": [
    "# Introduction\n",
    "\n",
    "## Overview\n",
    "\n",
    "The Hyporheic Project aims to automate the integration of surface water inputs into groundwater flow modeling using FloPy (ModFlow6) in Python. This project is designed to ease the difficulty and enhance the efficiency of groundwater modeling by streamlining the processing of surface water inputs from HEC-RAS, which is a widely-used software for simulating the hydraulics of water flow through natural rivers and other channels. \n",
    "\n",
    "## Motivation \n",
    "\n",
    "Learning the process of integrating surface water and groundwater modeling is often difficult and time-consuming. If these processes were easier to learn and run, we could incorporate groundwater more widely and quantify the ecological benefits of groundwater, specifically the hyporheic zone. \n",
    "\n",
    "The hyporheic zone is a critical area where groundwater and surface water interact, providing essential ecological functions such as nutrient cycling and habitat for aquatic organisms. By automating the inclusion of surface water inputs into groundwater models, this project aims to provide more reliable results for water resource management, environmental assessments, and hydrological studies while highlighting the importance of the hyporheic zone.\n",
    "\n",
    "## Objectives\n",
    "\n",
    "The primary objectives of this notebook are as follows:\n",
    "1. **Streamline Data Processing**: Develop a comprehensive workflow to preprocess surface water data from HEC-RAS for integration into ModFlow6 models, including data acquisition, cleaning, and formatting procedures.\n",
    "2. **Automate Model Initialization**: Implement automated routines utilize FloPy to manage and configure ModFlow6 packages.\n",
    "3. **Simulate Groundwater Flow**: Conduct groundwater flow simulations using ModFlow6, incorporating the processed surface water inputs to evaluate their impact on groundwater dynamics.\n",
    "4. **Visualize and Analyze Groundwater Results**: Develop visualization techniques for analyzing groundwater model results, including the creation of contour plots, time-series graphs, and cross-sectional views to interpret the effects of surface water interactions.\n",
    "5. **Simulate Particle Tracking**: Conduct particle tracking simulations using ModFlow6 and ModPath7, incorporating the groundwater flow outputs.\n",
    "6. **Visualize and Analyze Particle Results**: Develop visualization techniques for analyzing particle model results, including the creation of contour plots, time-series graphs, and cross-sectional views to interpret the effects of surface water interactions.\n",
    "7. **Quantify Ecological Benefits**: Investigate the ecological benefits of groundwater and the hyporheic zone by analyzing the simulation results, providing insights into nutrient cycling, habitat provision, and overall water resource management.\n",
    "\n",
    "## Structure\n",
    "\n",
    "This executable document is organized into the following chapters:\n",
    "\n",
    "1. **Preprocessing Data**: This chapter covers the preprocessing steps required to prepare surface water data from HEC-RAS for integration into ModFlow6 models. It includes data acquisition, cleaning, and formatting procedures.\n",
    "\n",
    "2. **Initializing Variables**: This chapter details the initialization process of ModFlow6 models, including the setup of directories, model executables, grid definition, and package parameters.\n",
    "\n",
    "3. **Model Domain**: This chapter defines the model grid using the extent and spatial resolution of the terrain raster. Here we also define elevation values for each layer in the model domain using the values from the terrain elevation raster.\n",
    "\n",
    "4. **Define Boundaries**: This chapter explains how to define the boundaries of the model domain, including the specification of boundary conditions and the delineation of the model area.\n",
    "\n",
    "5. **Boundary Conditions**: This chapter details the setup of boundary conditions for the ModFlow6 model, including the specification of head boundaries, flux boundaries, and other relevant conditions.\n",
    "\n",
    "6. **Optional: Define Wells**: This chapter explains the configuration and management of various ModFlow6 packages using FloPy, specifically focusing on the definition and management of wells within the model.\n",
    "\n",
    "7. **Optional: Define Nodes**: This chapter explains the configuration and management of various ModFlow6 packages using FloPy, specifically focusing on the definition and management of nodes within the model.\n",
    "\n",
    "8. **Run Models**: This chapter provides funtions to run the complete set of models and view the results. It includes debugging statements for troubleshooting and optimizing model performance.\n",
    "\n",
    "9. **Quantifying Ecological Benefits**: This chapter runs, and plots the model simulations. It also quantifies the ecological benefits of groundwater and the hyporheic zone.\n"
   ]
  },
  {
   "cell_type": "code",
   "execution_count": null,
   "metadata": {},
   "outputs": [],
   "source": [
    "#------------------ STEPS TO CREATE JUPYTER BOOK ------------------#\n",
    "# STEP 1. Make sure you're in a virtual environment by running \".\\\\.venv\\Scripts\\activate\" or creating a virtual environment in the terminal\n",
    "# STEP 2. Install jupyter notebook by running \"pip install jupyter_book\" in the terminal\n",
    "# STEP 3. Run \"jupyter-book build VQuintana/\" to build jupyter book from directory"
   ]
  }
 ],
 "metadata": {
  "kernelspec": {
   "display_name": "Python 3",
   "language": "python",
   "name": "python3"
  },
  "language_info": {
   "codemirror_mode": {
    "name": "ipython",
    "version": 3
   },
   "file_extension": ".py",
   "mimetype": "text/x-python",
   "name": "python",
   "nbconvert_exporter": "python",
   "pygments_lexer": "ipython3",
   "version": "3.11.4"
  },
  "widgets": {
   "application/vnd.jupyter.widget-state+json": {
    "state": {},
    "version_major": 2,
    "version_minor": 0
   }
  }
 },
 "nbformat": 4,
 "nbformat_minor": 4
}
