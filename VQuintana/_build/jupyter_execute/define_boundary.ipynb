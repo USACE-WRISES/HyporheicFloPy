{
 "cells": [
  {
   "cell_type": "markdown",
   "metadata": {},
   "source": [
    "# Flood Plain Boundaries and Groundwater Domain"
   ]
  },
  {
   "cell_type": "code",
   "execution_count": 1,
   "metadata": {},
   "outputs": [],
   "source": [
    "# Import Libraries\n",
    "%run /Users/u4eeevmq/Documents/Python/HyporheicFloPy/VQuintana/common_imports.py\n",
    "\n",
    "# Retrieve stored variables\n",
    "%store -r md6_exe_path\n",
    "%store -r md7_exe_path\n",
    "%store -r sim_name\n",
    "%store -r workspace\n",
    "%store -r figs_path\n",
    "%store -r gwf_name\n",
    "%store -r mp7_name\n",
    "%store -r gwf_ws\n",
    "%store -r mp7_ws\n",
    "%store -r headfile\n",
    "%store -r head_filerecord\n",
    "%store -r budgetfile\n",
    "%store -r budget_filerecord\n",
    "%store -r write\n",
    "%store -r run\n",
    "%store -r plot\n",
    "%store -r plot_show\n",
    "%store -r plot_save\n",
    "\n",
    "# Retrieve model parameters\n",
    "%store -r length_units\n",
    "%store -r time_units\n",
    "%store -r nper\n",
    "%store -r cell_size_x\n",
    "%store -r cell_size_y\n",
    "%store -r gw_mod_depth\n",
    "%store -r z\n",
    "%store -r kh\n",
    "%store -r kv\n",
    "%store -r gw_offset\n",
    "%store -r porosity\n",
    "%store -r rch_iface\n",
    "%store -r rch_iflowface\n",
    "%store -r recharge_rate\n",
    "%store -r nstp\n",
    "%store -r perlen\n",
    "%store -r tsmult\n",
    "\n",
    "# Retrieve spatial data\n",
    "%store -r hec_ras_crs\n",
    "%store -r terrain_elevation\n",
    "%store -r raster_transform\n",
    "%store -r transform\n",
    "%store -r raster_crs\n",
    "%store -r output_raster\n",
    "%store -r cropped_output_raster\n",
    "%store -r ground_water_domain\n",
    "%store -r left_boundary\n",
    "%store -r right_boundary\n",
    "\n",
    "# retrieve model domain data\n",
    "%store -r terrain_elevation\n",
    "%store -r raster_transform\n",
    "%store -r raster_crs\n",
    "%store -r raster_bounds_box\n",
    "%store -r bed_elevation\n",
    "%store -r raster_width\n",
    "%store -r raster_height\n",
    "%store -r ncol\n",
    "%store -r nrow\n",
    "%store -r top\n",
    "%store -r nlay\n",
    "%store -r grid_x\n",
    "%store -r grid_y\n",
    "%store -r grid_points\n",
    "%store -r intersecting_points\n",
    "%store -r xorigin\n",
    "%store -r yorigin\n",
    "%store -r xmin\n",
    "%store -r ymin\n",
    "%store -r xmax\n",
    "%store -r ymax\n",
    "%store -r tops\n",
    "%store -r botm"
   ]
  },
  {
   "cell_type": "code",
   "execution_count": 2,
   "metadata": {},
   "outputs": [
    {
     "name": "stdout",
     "output_type": "stream",
     "text": [
      "Left Boundary Start: (2407358.236295765, 10515701.162934666), Left Boundary End: (2407570.6507961783, 10515177.034472264)\n",
      "Right Boundary Start: (2407065.5187525107, 10515580.276633618), Right Boundary End: (2407188.132000717, 10515108.82005953)\n",
      "Upstream Start: (2407358.236295765, 10515701.162934666), Upstream End: (2407065.5187525107, 10515580.276633618)\n",
      "Downstream Start: (2407570.6507961783, 10515177.034472264), Downstream End: (2407188.132000717, 10515108.82005953)\n",
      "Upstream Line: LINESTRING (2407358.236295765 10515701.162934666, 2407065.5187525107 10515580.276633618)\n",
      "Downstream Line: LINESTRING (2407570.6507961783 10515177.034472264, 2407188.132000717 10515108.82005953)\n",
      "✅ Upstream and Downstream boundaries created successfully!\n"
     ]
    }
   ],
   "source": [
    "#--------------------------- Define Flood Plain Boundaries -----------------------------#\n",
    "## Extract the first (start) and last (end) coordinates from each boundary geometry\n",
    "left_start = left_boundary.geometry.iloc[0].coords[0]  # First point\n",
    "left_end = left_boundary.geometry.iloc[-1].coords[-1]  # Last point\n",
    "\n",
    "right_start = right_boundary.geometry.iloc[0].coords[0]  # First point\n",
    "right_end = right_boundary.geometry.iloc[-1].coords[-1]  # Last point\n",
    "\n",
    "## Print start and end coordinates\n",
    "print(f\"Left Boundary Start: {left_start}, Left Boundary End: {left_end}\")\n",
    "print(f\"Right Boundary Start: {right_start}, Right Boundary End: {right_end}\")\n",
    "\n",
    "## Upstream boundary coordinates (use left and right start points)\n",
    "upstream_start_x, upstream_start_y = left_start  # Start of upstream from left boundary\n",
    "upstream_end_x, upstream_end_y = right_start  # End of upstream from right boundary\n",
    "\n",
    "## Downstream boundary coordinates (use left and right end points)\n",
    "downstream_start_x, downstream_start_y = left_end  # Start of downstream from left boundary\n",
    "downstream_end_x, downstream_end_y = right_end  # End of downstream from right boundary\n",
    "\n",
    "## Print extracted coordinates\n",
    "print(f\"Upstream Start: ({upstream_start_x}, {upstream_start_y}), Upstream End: ({upstream_end_x}, {upstream_end_y})\")\n",
    "print(f\"Downstream Start: ({downstream_start_x}, {downstream_start_y}), Downstream End: ({downstream_end_x}, {downstream_end_y})\")\n",
    "\n",
    "## Use the extracted start and end points\n",
    "upstream_line = LineString([(upstream_start_x, upstream_start_y), (upstream_end_x, upstream_end_y)])\n",
    "downstream_line = LineString([(downstream_start_x, downstream_start_y), (downstream_end_x, downstream_end_y)])\n",
    "\n",
    "## Convert to GeoDataFrame\n",
    "upstream_boundary = gpd.GeoDataFrame(geometry=[upstream_line], crs=left_boundary.crs)\n",
    "downstream_boundary = gpd.GeoDataFrame(geometry=[downstream_line], crs=left_boundary.crs)\n",
    "\n",
    "## Print boundary lines\n",
    "print(f\"Upstream Line: {upstream_line}\")\n",
    "print(f\"Downstream Line: {downstream_line}\")\n",
    "\n",
    "## Check if boundaries were created successfully\n",
    "if not upstream_boundary.empty and not downstream_boundary.empty:\n",
    "    print(\"✅ Upstream and Downstream boundaries created successfully!\")\n",
    "else:\n",
    "    print(\"❌ Error: One or both boundaries are empty. Check input data.\")"
   ]
  },
  {
   "cell_type": "code",
   "execution_count": 3,
   "metadata": {},
   "outputs": [
    {
     "name": "stdout",
     "output_type": "stream",
     "text": [
      "✅ Total Active Cells: 81080\n",
      "✅ Total Inactive Cells: 1570120\n"
     ]
    },
    {
     "name": "stderr",
     "output_type": "stream",
     "text": [
      "C:\\Users\\u4eeevmq\\AppData\\Local\\Temp\\ipykernel_8452\\709847143.py:16: DeprecationWarning: The 'unary_union' attribute is deprecated, use the 'union_all()' method instead.\n",
      "  grid_gdf[\"inside_domain\"] = grid_gdf.geometry.intersects(ground_water_domain.unary_union)\n"
     ]
    }
   ],
   "source": [
    "#--------------------------- Define Active Cells using Groundwater Domain -----------------------------#\n",
    "## Define grid cell polygons based on grid resolution\n",
    "grid_cells = []\n",
    "for row in range(nrow):\n",
    "    for col in range(ncol):\n",
    "        x_min = grid_x[row, col] - (cell_size_x / 2)\n",
    "        x_max = grid_x[row, col] + (cell_size_x / 2)\n",
    "        y_min = grid_y[row, col] - (cell_size_y / 2)\n",
    "        y_max = grid_y[row, col] + (cell_size_y / 2)\n",
    "        grid_cells.append(Polygon([(x_min, y_min), (x_min, y_max), (x_max, y_max), (x_max, y_min)]))\n",
    "\n",
    "## Convert to GeoDataFrame\n",
    "grid_gdf = gpd.GeoDataFrame(geometry=grid_cells, crs=ground_water_domain.crs)\n",
    "\n",
    "## Perform Spatial Join\n",
    "grid_gdf[\"inside_domain\"] = grid_gdf.geometry.intersects(ground_water_domain.unary_union)\n",
    "\n",
    "## Initialize IDOMAIN array\n",
    "idomain = np.zeros((nlay, nrow, ncol), dtype=int)\n",
    "\n",
    "## Assign active cells where grid intersects groundwater domain\n",
    "for idx, inside in enumerate(grid_gdf[\"inside_domain\"]):\n",
    "    row, col = divmod(idx, ncol)  # Convert flat index to row, col\n",
    "    if inside:\n",
    "        idomain[:, row, col] = 1  # Mark as active\n",
    "\n",
    "## Debugging: Print active/inactive cell count\n",
    "print(f\"✅ Total Active Cells: {np.sum(idomain == 1)}\")\n",
    "print(f\"✅ Total Inactive Cells: {np.sum(idomain == 0)}\")"
   ]
  },
  {
   "cell_type": "code",
   "execution_count": 4,
   "metadata": {},
   "outputs": [
    {
     "name": "stdout",
     "output_type": "stream",
     "text": [
      "Stored 'left_start' (tuple)\n",
      "Stored 'left_end' (tuple)\n",
      "Stored 'right_start' (tuple)\n",
      "Stored 'right_end' (tuple)\n",
      "Stored 'upstream_start_x' (float)\n",
      "Stored 'upstream_start_y' (float)\n",
      "Stored 'upstream_end_x' (float)\n",
      "Stored 'upstream_end_y' (float)\n",
      "Stored 'downstream_start_x' (float)\n",
      "Stored 'downstream_start_y' (float)\n",
      "Stored 'downstream_end_x' (float)\n",
      "Stored 'downstream_end_y' (float)\n",
      "Stored 'upstream_line' (LineString)\n",
      "Stored 'downstream_line' (LineString)\n",
      "Stored 'upstream_boundary' (GeoDataFrame)\n",
      "Stored 'downstream_boundary' (GeoDataFrame)\n"
     ]
    },
    {
     "name": "stdout",
     "output_type": "stream",
     "text": [
      "Stored 'grid_cells' (list)\n",
      "Stored 'grid_gdf' (GeoDataFrame)\n",
      "Stored 'idomain' (ndarray)\n"
     ]
    }
   ],
   "source": [
    "# Store new variables\n",
    "%store left_start\n",
    "%store left_end\n",
    "%store right_start\n",
    "%store right_end\n",
    "%store upstream_start_x\n",
    "%store upstream_start_y\n",
    "%store upstream_end_x\n",
    "%store upstream_end_y\n",
    "%store downstream_start_x\n",
    "%store downstream_start_y\n",
    "%store downstream_end_x\n",
    "%store downstream_end_y\n",
    "%store upstream_line\n",
    "%store downstream_line\n",
    "%store upstream_boundary\n",
    "%store downstream_boundary\n",
    "%store grid_cells\n",
    "%store grid_gdf\n",
    "%store idomain"
   ]
  }
 ],
 "metadata": {
  "kernelspec": {
   "display_name": "Python 3",
   "language": "python",
   "name": "python3"
  },
  "language_info": {
   "codemirror_mode": {
    "name": "ipython",
    "version": 3
   },
   "file_extension": ".py",
   "mimetype": "text/x-python",
   "name": "python",
   "nbconvert_exporter": "python",
   "pygments_lexer": "ipython3",
   "version": "3.11.4"
  },
  "widgets": {
   "application/vnd.jupyter.widget-state+json": {
    "state": {},
    "version_major": 2,
    "version_minor": 0
   }
  }
 },
 "nbformat": 4,
 "nbformat_minor": 4
}