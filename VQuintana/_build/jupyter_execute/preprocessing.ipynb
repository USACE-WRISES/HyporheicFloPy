{
 "cells": [
  {
   "cell_type": "markdown",
   "metadata": {},
   "source": [
    "# Preprocessing Data\n",
    "\n",
    "This automated script is designed to take surface water outputs from HEC-RAS. This section shows the necessary preprocessing steps for the surface water data before it can be utilized in the modeling packages of ModFlow6 with FloPy."
   ]
  },
  {
   "cell_type": "code",
   "execution_count": 1,
   "metadata": {},
   "outputs": [],
   "source": [
    "#-----------------------Importing Libraries-----------------------#\n",
    "# import os\n",
    "# import flopy\n",
    "# import pathlib\n",
    "# import matplotlib.pyplot as plt\n",
    "# import numpy as np\n",
    "# import geopandas as gpd\n",
    "# import pandas as pd\n",
    "# import rasterio\n",
    "# import pyproj\n",
    "# import shutil\n",
    "# import random\n",
    "# import jupyter_book\n",
    "# import pathlib as pl\n",
    "# from pathlib import Path\n",
    "# from rasterio.crs import CRS\n",
    "# from rasterio.plot import show\n",
    "# from rasterio.warp import calculate_default_transform, reproject, Resampling\n",
    "# from rasterio.transform import from_bounds\n",
    "# from rasterio.transform import rowcol\n",
    "# from rasterio.mask import mask\n",
    "# from shapely.geometry import box, Point, Polygon, LineString\n",
    "# from flopy.utils.binaryfile import HeadFile\n",
    "# from scipy.interpolate import griddata\n",
    "# from pprint import pformat\n",
    "# from flopy.plot.styles import styles\n",
    "# from matplotlib.lines import Line2D\n",
    "# from flopy.mf6 import MFSimulation\n",
    "# from matplotlib import cbook, cm\n",
    "# from matplotlib.colors import LightSource\n",
    "# from modflow_devtools.misc import get_env, timed\n",
    "\n",
    "%run /Users/u4eeevmq/Documents/Python/HyporheicFloPy/VQuintana/common_imports.py\n"
   ]
  },
  {
   "cell_type": "code",
   "execution_count": 2,
   "metadata": {},
   "outputs": [],
   "source": [
    "#---------------------- Directories ----------------------#\n",
    "## Data Paths\n",
    "water_surface_elevation_raster = r\"C:\\Users\\u4eeevmq\\Documents\\Python\\test_12_18_2024\\CH00365\\GMS\\WSE (Max).USGS_1m_FebApril2018_DEM.U_USGS-3DEP_dtm_hyrdo_flattened_20240412.2041_1.tif\"\n",
    "terrain_elevation_raster = r\"C:\\Users\\u4eeevmq\\Documents\\Python\\test_12_18_2024\\CH00365\\GMS\\BlendedTerrain.LoweredTerrain.tif\"\n",
    "ground_water_domain_shapefile = r\"C:\\Users\\u4eeevmq\\Documents\\Python\\test_12_18_2024\\InputShapefiles\\GWDomain.shp\"\n",
    "left_boundary_floodplain = r\"C:\\Users\\u4eeevmq\\Documents\\Python\\test_12_18_2024\\InputShapefiles\\L_FPL.shp\"\n",
    "right_boundary_floodplain = r\"C:\\Users\\u4eeevmq\\Documents\\Python\\test_12_18_2024\\InputShapefiles\\R_FPL.shp\"\n",
    "\n",
    "## Projection File Path\n",
    "projection_file = r\"C:\\Users\\u4eeevmq\\Documents\\Python\\test_12_18_2024\\CH00365\\RAS\\GIS_Data\\102739_TX_central.prj\"\n",
    "\n",
    "### NOTE: This script can be adapted to run groundwater modeling simulations for other locations by changing the directories above to designated inputs"
   ]
  },
  {
   "cell_type": "code",
   "execution_count": 3,
   "metadata": {},
   "outputs": [
    {
     "name": "stdout",
     "output_type": "stream",
     "text": [
      "Stored 'hec_ras_crs' (CRS)\n"
     ]
    }
   ],
   "source": [
    "#--------------------------------- Load Projection FIle -----------------------------------------#\n",
    "## HEC-RAS Projection File\n",
    "hec_ras_crs = CRS.from_string(open(projection_file).read().strip())\n",
    "\n",
    "## Store the CRS\n",
    "%store hec_ras_crs\n",
    "### NOTE: If the projection file is not available, the CRS can be defined manually here."
   ]
  },
  {
   "cell_type": "code",
   "execution_count": 4,
   "metadata": {},
   "outputs": [
    {
     "name": "stdout",
     "output_type": "stream",
     "text": [
      "Reprojected raster saved as reprojected_terrain_raster.tif\n",
      "Stored 'terrain_elevation' (ndarray)\n",
      "Stored 'raster_transform' (Affine)\n",
      "Stored 'transform' (Affine)\n",
      "Stored 'raster_crs' (CRS)\n",
      "Stored 'output_raster' (str)\n"
     ]
    }
   ],
   "source": [
    "#---------------------------------Terrain Elevation -----------------------------------------#\n",
    "# Open the terrain raster\n",
    "with rasterio.open(terrain_elevation_raster) as src:\n",
    "    terrain_elevation = src.read(1)\n",
    "    raster_transform = src.transform\n",
    "    raster_crs = src.crs\n",
    "\n",
    "    # Calculate the new transform and dimensions\n",
    "    transform, width, height = calculate_default_transform(\n",
    "        raster_crs, hec_ras_crs, src.width, src.height, *src.bounds\n",
    "    )\n",
    "\n",
    "    # Define metadata for the new raster\n",
    "    new_meta = src.meta.copy()\n",
    "    new_meta.update({\n",
    "        \"crs\": hec_ras_crs,\n",
    "        \"transform\": transform,\n",
    "        \"width\": width,\n",
    "        \"height\": height\n",
    "    })\n",
    "\n",
    "    # Define output file name\n",
    "    output_raster = \"reprojected_terrain_raster.tif\"\n",
    "\n",
    "    # Reproject and save\n",
    "    with rasterio.open(output_raster, \"w\", **new_meta) as dst:\n",
    "        reproject(\n",
    "            source=rasterio.band(src, 1),\n",
    "            destination=rasterio.band(dst, 1),\n",
    "            src_transform=raster_transform,\n",
    "            src_crs=raster_crs,\n",
    "            dst_transform=transform,\n",
    "            dst_crs=hec_ras_crs,\n",
    "            resampling=Resampling.nearest\n",
    "        )\n",
    "\n",
    "print(f\"Reprojected raster saved as {output_raster}\")\n",
    "\n",
    "## Store the terrain elevation raster\n",
    "%store terrain_elevation\n",
    "%store raster_transform\n",
    "%store transform\n",
    "%store raster_crs\n",
    "%store output_raster"
   ]
  },
  {
   "cell_type": "code",
   "execution_count": 5,
   "metadata": {},
   "outputs": [
    {
     "name": "stdout",
     "output_type": "stream",
     "text": [
      "Reprojected raster saved as reprojected_terrain_raster.tif\n",
      "Stored 'terrain_elevation' (ndarray)\n",
      "Stored 'raster_transform' (Affine)\n",
      "Stored 'transform' (Affine)\n",
      "Stored 'raster_crs' (CRS)\n",
      "Stored 'output_raster' (str)\n"
     ]
    }
   ],
   "source": [
    "#------------------------------Model Grid--------------------------------#\n",
    "# Open the terrain raster\n",
    "with rasterio.open(terrain_elevation_raster) as src:\n",
    "    terrain_elevation = src.read(1)\n",
    "    raster_transform = src.transform\n",
    "    raster_crs = src.crs\n",
    "\n",
    "    # Calculate the new transform and dimensions\n",
    "    transform, width, height = calculate_default_transform(\n",
    "        raster_crs, hec_ras_crs, src.width, src.height, *src.bounds\n",
    "    )\n",
    "\n",
    "    # Define metadata for the new raster\n",
    "    new_meta = src.meta.copy()\n",
    "    new_meta.update({\n",
    "        \"crs\": hec_ras_crs,\n",
    "        \"transform\": transform,\n",
    "        \"width\": width,\n",
    "        \"height\": height\n",
    "    })\n",
    "\n",
    "    # Define output file name\n",
    "    output_raster = \"reprojected_terrain_raster.tif\"\n",
    "\n",
    "    # Reproject and save\n",
    "    with rasterio.open(output_raster, \"w\", **new_meta) as dst:\n",
    "        reproject(\n",
    "            source=rasterio.band(src, 1),\n",
    "            destination=rasterio.band(dst, 1),\n",
    "            src_transform=raster_transform,\n",
    "            src_crs=raster_crs,\n",
    "            dst_transform=transform,\n",
    "            dst_crs=hec_ras_crs,\n",
    "            resampling=Resampling.nearest\n",
    "        )\n",
    "\n",
    "print(f\"Reprojected raster saved as {output_raster}\")\n",
    "\n",
    "## Store the terrain elevation raster\n",
    "%store terrain_elevation\n",
    "%store raster_transform\n",
    "%store transform\n",
    "%store raster_crs\n",
    "%store output_raster"
   ]
  },
  {
   "cell_type": "code",
   "execution_count": 6,
   "metadata": {},
   "outputs": [
    {
     "name": "stdout",
     "output_type": "stream",
     "text": [
      "Reprojected raster saved as reprojected_water_surface_elevation_raster.tif\n",
      "Cropped water surface elevation raster saved as cropped_water_surface_elevation_raster.tif\n",
      "Stored 'cropped_output_raster' (str)\n"
     ]
    }
   ],
   "source": [
    "#--------------------------------- Water Surface Elevation -----------------------------------------#\n",
    "# Open the input raster\n",
    "with rasterio.open(water_surface_elevation_raster) as src:\n",
    "    surface_elevation = src.read(1)\n",
    "    raster_transform = src.transform\n",
    "    raster_crs = src.crs\n",
    "\n",
    "    # Calculate the new transform and dimensions\n",
    "    transform, width, height = calculate_default_transform(\n",
    "        raster_crs, hec_ras_crs, src.width, src.height, *src.bounds\n",
    "    )\n",
    "    \n",
    "    # Define metadata for the new raster\n",
    "    new_meta = src.meta.copy()\n",
    "    new_meta.update({\n",
    "        \"crs\": hec_ras_crs,\n",
    "        \"transform\": transform,\n",
    "        \"width\": width,\n",
    "        \"height\": height\n",
    "    })\n",
    "\n",
    "    # Define output file name\n",
    "    output_raster = \"reprojected_water_surface_elevation_raster.tif\"\n",
    "\n",
    "    # Reproject and save\n",
    "    with rasterio.open(output_raster, \"w\", **new_meta) as dst:\n",
    "        reproject(\n",
    "            source=rasterio.band(src, 1),\n",
    "            destination=rasterio.band(dst, 1),\n",
    "            src_transform=raster_transform,\n",
    "            src_crs=raster_crs,\n",
    "            dst_transform=transform,\n",
    "            dst_crs=hec_ras_crs,\n",
    "            resampling=Resampling.nearest\n",
    "        )\n",
    "\n",
    "print(f\"Reprojected raster saved as {output_raster}\")\n",
    "\n",
    "# Crop the water surface elevation raster to the terrain extent\n",
    "with rasterio.open(output_raster) as src:\n",
    "    terrain_bounds = src.bounds\n",
    "    terrain_geom = box(*terrain_bounds)\n",
    "\n",
    "    with rasterio.open(water_surface_elevation_raster) as src:\n",
    "        out_image, out_transform = mask(src, [terrain_geom], crop=True)\n",
    "        out_meta = src.meta.copy()\n",
    "        out_meta.update({\n",
    "            \"driver\": \"GTiff\",\n",
    "            \"height\": out_image.shape[1],\n",
    "            \"width\": out_image.shape[2],\n",
    "            \"transform\": out_transform\n",
    "        })\n",
    "\n",
    "        cropped_output_raster = \"cropped_water_surface_elevation_raster.tif\"\n",
    "        with rasterio.open(cropped_output_raster, \"w\", **out_meta) as dst:\n",
    "            dst.write(out_image)\n",
    "\n",
    "print(f\"Cropped water surface elevation raster saved as {cropped_output_raster}\")\n",
    "\n",
    "%store cropped_output_raster"
   ]
  },
  {
   "cell_type": "code",
   "execution_count": 7,
   "metadata": {},
   "outputs": [
    {
     "name": "stdout",
     "output_type": "stream",
     "text": [
      "Stored 'ground_water_domain' (GeoDataFrame)\n",
      "Stored 'left_boundary' (GeoDataFrame)\n",
      "Stored 'right_boundary' (GeoDataFrame)\n"
     ]
    }
   ],
   "source": [
    "#--------------------------------- Shapefiles -----------------------------------------#\n",
    "## Load and reproject shapefiles to match the raster CRS\n",
    "ground_water_domain = gpd.read_file(ground_water_domain_shapefile).to_crs(hec_ras_crs)\n",
    "left_boundary = gpd.read_file(left_boundary_floodplain).to_crs(hec_ras_crs)\n",
    "right_boundary = gpd.read_file(right_boundary_floodplain).to_crs(hec_ras_crs)\n",
    "\n",
    "## Save the reprojected shapefiles\n",
    "%store ground_water_domain\n",
    "%store left_boundary\n",
    "%store right_boundary"
   ]
  }
 ],
 "metadata": {
  "kernelspec": {
   "display_name": "Python 3",
   "language": "python",
   "name": "python3"
  },
  "language_info": {
   "codemirror_mode": {
    "name": "ipython",
    "version": 3
   },
   "file_extension": ".py",
   "mimetype": "text/x-python",
   "name": "python",
   "nbconvert_exporter": "python",
   "pygments_lexer": "ipython3",
   "version": "3.11.4"
  },
  "widgets": {
   "application/vnd.jupyter.widget-state+json": {
    "state": {},
    "version_major": 2,
    "version_minor": 0
   }
  }
 },
 "nbformat": 4,
 "nbformat_minor": 4
}